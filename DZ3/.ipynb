{
 "cells": [
  {
   "cell_type": "code",
   "execution_count": 39,
   "metadata": {},
   "outputs": [
    {
     "name": "stdout",
     "output_type": "stream",
     "text": [
      "Введите слово:qwert\n",
      "e\n"
     ]
    }
   ],
   "source": [
    "my_str = input('Введите слово:')\n",
    "a = int(len(my_str) / 2)\n",
    "if len(my_str) % 2 == 0:\n",
    "    print(my_str[a-1:a+1])\n",
    "else:\n",
    "    print(my_str[a])"
   ]
  },
  {
   "cell_type": "code",
   "execution_count": 56,
   "metadata": {},
   "outputs": [
    {
     "name": "stdout",
     "output_type": "stream",
     "text": [
      "Ведите число (0 закончить):2\n",
      "Ведите число (0 закончить):3\n",
      "Ведите число (0 закончить):2\n",
      "Ведите число (0 закончить):0\n",
      "Сумма введенных чисел равна: 7\n"
     ]
    }
   ],
   "source": [
    "summa = 0\n",
    "a = 1\n",
    "while a != 0:\n",
    "    a = int(input ('Ведите число (0 закончить):'))\n",
    "    summa += a\n",
    "print(f'Сумма введенных чисел равна: {summa}')"
   ]
  },
  {
   "cell_type": "code",
   "execution_count": 80,
   "metadata": {},
   "outputs": [
    {
     "name": "stdout",
     "output_type": "stream",
     "text": [
      "Alex и Emma\n",
      "Arthur и Kate\n",
      "John и Kira\n",
      "Peter и Liza\n",
      "Richard и Trisha\n"
     ]
    }
   ],
   "source": [
    "boys = ['Peter', 'Alex', 'John', 'Arthur', 'Richard']\n",
    "girls = ['Kate', 'Liza', 'Kira', 'Emma', 'Trisha']\n",
    "if len(boys) == len(girls):\n",
    "    boys.sort(key=str.lower)\n",
    "    girls.sort(key=str.lower)\n",
    "    a = len(boys)\n",
    "    while a != 0:\n",
    "        print(f'{boys[-a]} и {girls[-a]}')\n",
    "        a -= 1\n",
    "else:\n",
    "    print('Внимание, кто-то может остаться без пары!')\n",
    "\n"
   ]
  },
  {
   "cell_type": "code",
   "execution_count": 145,
   "metadata": {},
   "outputs": [
    {
     "name": "stdout",
     "output_type": "stream",
     "text": [
      "Thailand 23.9 C\n",
      "Germany 13.8 C\n",
      "Russia 3.7 C\n",
      "Poland 12.0 C\n"
     ]
    }
   ],
   "source": [
    "countries_temperature = [\n",
    "['Thailand', [75.2, 77, 78.8, 73.4, 68, 75.2, 77]],\n",
    "['Germany', [57.2, 55.4, 59, 59, 53.6]],\n",
    "['Russia', [35.6, 37.4, 39.2, 41, 42.8, 39.2, 35.6]],\n",
    "['Poland', [50, 50, 53.6, 57.2, 55.4, 55.4]]\n",
    "]\n",
    "a = len(countries_temperature)\n",
    "while a !=0:\n",
    "    average = round((sum(countries_temperature[-a][1])/len(countries_temperature[-a][1]) - 32)  * 5 / 9,1)\n",
    "    print(f'{countries_temperature[-a][0]} {average} C')\n",
    "    a -= 1"
   ]
  },
  {
   "cell_type": "code",
   "execution_count": 231,
   "metadata": {},
   "outputs": [
    {
     "name": "stdout",
     "output_type": "stream",
     "text": [
      "Среднее количество просмотров на уникального пользователя: 23.25\n"
     ]
    }
   ],
   "source": [
    "stream = [\n",
    "'2018-01-01,user1,3',\n",
    "'2018-01-07,user1,4',\n",
    "'2018-03-29,user1,1',\n",
    "'2018-04-04,user1,13',\n",
    "'2018-01-05,user2,7',\n",
    "'2018-06-14,user3,4',\n",
    "'2018-07-02,user3,10',\n",
    "'2018-03-21,user4,19',\n",
    "'2018-03-22,user4,4',\n",
    "'2018-04-22,user4,8',\n",
    "'2018-05-03,user4,9',\n",
    "'2018-05-11,user4,11'\n",
    "]\n",
    "\n",
    "new_stream = []\n",
    "for element in stream:\n",
    "    params = element.split(',')\n",
    "    new_stream.append(params)\n",
    "\n",
    "user = []\n",
    "b = 0\n",
    "for index in range(len(new_stream)):\n",
    "    user += [new_stream[index][1]]\n",
    "    b += int(new_stream[index][2])\n",
    "\n",
    "    \n",
    "print(f'Среднее количество просмотров на уникального пользователя: {b/len(set(user))}')\n",
    "\n",
    "\n",
    "\n",
    "    "
   ]
  },
  {
   "cell_type": "code",
   "execution_count": 267,
   "metadata": {},
   "outputs": [
    {
     "name": "stdout",
     "output_type": "stream",
     "text": [
      "[98, 35, 15, 213, 54, 119]\n"
     ]
    }
   ],
   "source": [
    "ids = {'user1': [213, 213, 213, 15, 213],\n",
    "'user2': [54, 54, 119, 119, 119],\n",
    "'user3': [213, 98, 98, 35]}\n",
    "\n",
    "a = []\n",
    "for element in ids:\n",
    "    for index in range(len(ids[element])):\n",
    "        a.append(ids[element][index])\n",
    "        \n",
    "print(list(set(a)))"
   ]
  },
  {
   "cell_type": "code",
   "execution_count": 325,
   "metadata": {},
   "outputs": [
    {
     "name": "stdout",
     "output_type": "stream",
     "text": [
      "Поисковых запросов, содержащих 2 слов(а): 42.86%\n",
      "Поисковых запросов, содержащих 3 слов(а): 57.14%\n"
     ]
    }
   ],
   "source": [
    "queries = [\n",
    "'смотреть сериалы онлайн',\n",
    "'новости спорта',\n",
    "'афиша кино',\n",
    "'курс доллара',\n",
    "'сериалы этим летом',\n",
    "'курс по питону',\n",
    "'сериалы про спорт',\n",
    "]\n",
    "\n",
    "a = []\n",
    "for element in range(len(queries)):\n",
    "    a.append(queries[element].count(' '))\n",
    "\n",
    "b = []\n",
    "for index in range(max(a)+1):\n",
    "    b.append(0)\n",
    "\n",
    "for element in range(len(a)):\n",
    "    b[a[element]] += 1\n",
    "\n",
    "c = sum(b)\n",
    "for element in range(len(b)):\n",
    "    if b[element] == 0:\n",
    "        continue\n",
    "    else:\n",
    "        print(f'Поисковых запросов, содержащих {element + 1} слов(а): {b[element] / c:.2%}')\n",
    "        \n",
    "        "
   ]
  }
 ],
 "metadata": {
  "kernelspec": {
   "display_name": "Python 3",
   "language": "python",
   "name": "python3"
  },
  "language_info": {
   "codemirror_mode": {
    "name": "ipython",
    "version": 3
   },
   "file_extension": ".py",
   "mimetype": "text/x-python",
   "name": "python",
   "nbconvert_exporter": "python",
   "pygments_lexer": "ipython3",
   "version": "3.8.3"
  }
 },
 "nbformat": 4,
 "nbformat_minor": 4
}
