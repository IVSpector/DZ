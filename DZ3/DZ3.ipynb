{
 "cells": [
  {
   "cell_type": "code",
   "execution_count": 1,
   "metadata": {},
   "outputs": [
    {
     "name": "stdout",
     "output_type": "stream",
     "text": [
      "[98, 35, 15, 213, 54, 119]\n"
     ]
    }
   ],
   "source": [
    "ids = {'user1': [213, 213, 213, 15, 213],\n",
    "'user2': [54, 54, 119, 119, 119],\n",
    "'user3': [213, 98, 98, 35]}\n",
    "\n",
    "a = []\n",
    "for element in ids:\n",
    "    for index in range(len(ids[element])):\n",
    "        a.append(ids[element][index])\n",
    "        \n",
    "print(list(set(a)))"
   ]
  },
  {
   "cell_type": "code",
   "execution_count": 4,
   "metadata": {},
   "outputs": [
    {
     "name": "stdout",
     "output_type": "stream",
     "text": [
      "Поисковых запросов, содержащих 2 слов(а): 42.86%\n",
      "Поисковых запросов, содержащих 3 слов(а): 57.14%\n"
     ]
    }
   ],
   "source": [
    "queries = [\n",
    "'смотреть сериалы онлайн',\n",
    "'новости спорта',\n",
    "'афиша кино',\n",
    "'курс доллара',\n",
    "'сериалы этим летом',\n",
    "'курс по питону',\n",
    "'сериалы про спорт',\n",
    "]\n",
    "\n",
    "a = []\n",
    "for element in range(len(queries)):\n",
    "    a.append(queries[element].count(' '))\n",
    "\n",
    "b = []\n",
    "for index in range(max(a)+1):\n",
    "    b.append(0)\n",
    "\n",
    "for element in range(len(a)):\n",
    "    b[a[element]] += 1\n",
    "\n",
    "c = sum(b)\n",
    "for element in range(len(b)):\n",
    "    if b[element] == 0:\n",
    "        continue\n",
    "    else:\n",
    "        print(f'Поисковых запросов, содержащих {element + 1} слов(а): {b[element] / c:.2%}')\n",
    "        \n",
    "        "
   ]
  },
  {
   "cell_type": "code",
   "execution_count": 2,
   "metadata": {},
   "outputs": [
    {
     "data": {
      "text/plain": [
       "{'vk': {'revenue': 103, 'cost': 98, 'ROI': 5.1},\n",
       " 'yandex': {'revenue': 179, 'cost': 153, 'ROI': 16.99},\n",
       " 'facebook': {'revenue': 103, 'cost': 110, 'ROI': -6.36},\n",
       " 'adwords': {'revenue': 35, 'cost': 34, 'ROI': 2.94},\n",
       " 'twitter': {'revenue': 11, 'cost': 24, 'ROI': -54.17}}"
      ]
     },
     "execution_count": 2,
     "metadata": {},
     "output_type": "execute_result"
    }
   ],
   "source": [
    "results = {\n",
    "'vk': {'revenue': 103, 'cost': 98},\n",
    "'yandex': {'revenue': 179, 'cost': 153},\n",
    "'facebook': {'revenue': 103, 'cost': 110},\n",
    "'adwords': {'revenue': 35, 'cost': 34},\n",
    "'twitter': {'revenue': 11, 'cost': 24},\n",
    "}\n",
    "\n",
    "for element in results:\n",
    "    ROI = round((results[element]['revenue'] / results[element]['cost'] - 1)*100,2)\n",
    "    results[element]['ROI'] = ROI\n",
    "\n",
    "results"
   ]
  },
  {
   "cell_type": "code",
   "execution_count": 3,
   "metadata": {},
   "outputs": [
    {
     "name": "stdout",
     "output_type": "stream",
     "text": [
      "Максимальный объем продаж на рекламном канале: vk\n"
     ]
    }
   ],
   "source": [
    "stats = {'facebook': 55, 'yandex': 115, 'vk': 120, 'google': 99, 'email': 42, 'ok': 98}\n",
    " \n",
    "\n",
    "for element in stats:\n",
    "    if stats[element] == max(stats.values()):\n",
    "        print(f'Максимальный объем продаж на рекламном канале: {element}')"
   ]
  },
  {
   "cell_type": "code",
   "execution_count": 35,
   "metadata": {},
   "outputs": [
    {
     "data": {
      "text/plain": [
       "{'2018-01-01': {'yandex': {'cpc': 100}}}"
      ]
     },
     "execution_count": 35,
     "metadata": {},
     "output_type": "execute_result"
    }
   ],
   "source": [
    "my_list = ['2018-01-01', 'yandex', 'cpc', 100]\n",
    "\n",
    "a = {}\n",
    "\n",
    "for index in range(1,len(my_list)):\n",
    "    if index == 1:\n",
    "        a = { my_list[-index-1] : my_list[-index]}\n",
    "    else:\n",
    "        a = { my_list[-index-1] : a}\n",
    "a"
   ]
  },
  {
   "cell_type": "code",
   "execution_count": 52,
   "metadata": {},
   "outputs": [
    {
     "name": "stdout",
     "output_type": "stream",
     "text": [
      "Введите количество порций: 5\n",
      "Сыр: 350 гр\n",
      "Томаты: 200 гр\n",
      "Огурцы: 100 гр\n",
      "Маслины: 50 гр\n",
      "Оливковое Масло: 100 мл\n",
      "Салат: 50 гр\n",
      "Перец: 100 гр\n",
      "Колбаса: 150 гр\n",
      "Бекон: 150 гр\n",
      "Оливки: 50 гр\n",
      "Тесто: 500 гр\n",
      "Лимон: 5 шт\n",
      "Вода: 1000 мл\n",
      "Сахар: 50 гр\n",
      "Лайм: 100 гр\n"
     ]
    }
   ],
   "source": [
    "cook_book = {\n",
    "'салат': [\n",
    "{'ingridient_name': 'сыр', 'quantity': 50, 'measure': 'гр'},\n",
    "{'ingridient_name': 'томаты', 'quantity': 20, 'measure': 'гр'},\n",
    "{'ingridient_name': 'огурцы', 'quantity': 20, 'measure': 'гр'},\n",
    "{'ingridient_name': 'маслины', 'quantity': 10, 'measure': 'гр'},\n",
    "{'ingridient_name': 'оливковое масло', 'quantity': 20, 'measure': 'мл'},\n",
    "{'ingridient_name': 'салат', 'quantity': 10, 'measure': 'гр'},\n",
    "{'ingridient_name': 'перец', 'quantity': 20, 'measure': 'гр'}\n",
    "],\n",
    "'пицца': [\n",
    "{'ingridient_name': 'сыр', 'quantity': 20, 'measure': 'гр'},\n",
    "{'ingridient_name': 'колбаса', 'quantity': 30, 'measure': 'гр'},\n",
    "{'ingridient_name': 'бекон', 'quantity': 30, 'measure': 'гр'},\n",
    "{'ingridient_name': 'оливки', 'quantity': 10, 'measure': 'гр'},\n",
    "{'ingridient_name': 'томаты', 'quantity': 20, 'measure': 'гр'},\n",
    "{'ingridient_name': 'тесто', 'quantity': 100, 'measure': 'гр'},\n",
    "],\n",
    "'лимонад': [\n",
    "{'ingridient_name': 'лимон', 'quantity': 1, 'measure': 'шт'},\n",
    "{'ingridient_name': 'вода', 'quantity': 200, 'measure': 'мл'},\n",
    "{'ingridient_name': 'сахар', 'quantity': 10, 'measure': 'гр'},\n",
    "{'ingridient_name': 'лайм', 'quantity': 20, 'measure': 'гр'},\n",
    "]\n",
    "}\n",
    "\n",
    "a = {}\n",
    "n = int(input('Введите количество порций: '))\n",
    "\n",
    "for eda in cook_book:\n",
    "    for igrid in cook_book[eda]:\n",
    "        name = igrid['ingridient_name']\n",
    "        value = igrid['quantity'] * n\n",
    "        \n",
    "        if name in a:\n",
    "            a[name]['count'] += value\n",
    "        \n",
    "        else:\n",
    "            a[name] = {'measure': igrid['measure'], 'count': value}\n",
    "\n",
    "for name in a:\n",
    "    print(f'{name.title()}: {a[name][\"count\"]} {a[name][\"measure\"]}')"
   ]
  }
 ],
 "metadata": {
  "kernelspec": {
   "display_name": "Python 3",
   "language": "python",
   "name": "python3"
  },
  "language_info": {
   "codemirror_mode": {
    "name": "ipython",
    "version": 3
   },
   "file_extension": ".py",
   "mimetype": "text/x-python",
   "name": "python",
   "nbconvert_exporter": "python",
   "pygments_lexer": "ipython3",
   "version": "3.8.3"
  }
 },
 "nbformat": 4,
 "nbformat_minor": 4
}
