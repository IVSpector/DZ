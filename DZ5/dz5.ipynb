{
 "cells": [
  {
   "cell_type": "code",
   "execution_count": 18,
   "metadata": {},
   "outputs": [],
   "source": [
    "import json\n",
    "f = open('purchase_log.txt','r',encoding='utf-8')\n",
    "step1 = {}\n",
    "for line in f.readlines()[1:]:\n",
    "    data=json.loads(line.strip())\n",
    "    step1[data['user_id']]=data['category']\n",
    "f.close()"
   ]
  },
  {
   "cell_type": "code",
   "execution_count": 42,
   "metadata": {},
   "outputs": [],
   "source": [
    "import json\n",
    "f1 = open('visit_log.csv','r',encoding='utf-8')\n",
    "f2 = open('purchase_log.txt','r',encoding='utf-8')\n",
    "f3 = open('funnel.csv','w',encoding='utf-8')\n",
    "\n",
    "step1 = {}\n",
    "\n",
    "for line in f2.readlines()[1:]:\n",
    "    data=json.loads(line.strip())\n",
    "    step1[data['user_id']]=data['category']\n",
    "    \n",
    "print('user_id,source,category',file=f3)\n",
    "\n",
    "for i, line in enumerate(f1):\n",
    "    if i==0:\n",
    "        continue\n",
    "    user_id,source=line.strip().split(',')\n",
    "    a = step1.get(user_id)\n",
    "    print(user_id,source,a if a else '',sep=',',file=f3)\n",
    "   \n",
    "        \n",
    "f1.close()\n",
    "f2.close()\n",
    "f3.close()"
   ]
  },
  {
   "cell_type": "code",
   "execution_count": null,
   "metadata": {},
   "outputs": [],
   "source": []
  }
 ],
 "metadata": {
  "kernelspec": {
   "display_name": "Python 3",
   "language": "python",
   "name": "python3"
  },
  "language_info": {
   "codemirror_mode": {
    "name": "ipython",
    "version": 3
   },
   "file_extension": ".py",
   "mimetype": "text/x-python",
   "name": "python",
   "nbconvert_exporter": "python",
   "pygments_lexer": "ipython3",
   "version": "3.8.3"
  }
 },
 "nbformat": 4,
 "nbformat_minor": 4
}
